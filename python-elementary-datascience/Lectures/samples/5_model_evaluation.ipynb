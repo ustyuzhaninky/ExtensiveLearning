{
 "cells": [
  {
   "cell_type": "markdown",
   "metadata": {},
   "source": [
    "# Оценки регрессионных моделей\n",
    "В данном ноутбуке представлено четыре наиболее известных оценки качетсва рпдесказания по модели: Коэффициент Детерминации, Средняя Квадратическая Ошибка (Среднее Квадратическое Отклонение), Корень Среднего Квадратического Отклонения и Срденяя Абсолютная Ошибка.\n",
    "\n",
    "[Документация](https://scikit-learn.org/stable/modules/model_evaluation.html)"
   ]
  },
  {
   "cell_type": "markdown",
   "metadata": {},
   "source": [
    "## Коэффициент Детерминации\n",
    "Коэффициент Детерминации или Коэффициент R\\^2 -  это доля дисперсии зависимой переменной, объясняемая рассматриваемой моделью зависимости, то есть объясняющими переменными. Более точно — это единица минус доля необъяснённой дисперсии (дисперсии случайной ошибки модели, или условной по факторам дисперсии зависимой переменной) в дисперсии зависимой переменной. Его рассматривают как универсальную меру зависимости одной случайной величины от множества других. В частном случае линейной зависимости $R^{2}$. $R^{2}$ является квадратом так называемого множественного коэффициента корреляции между зависимой переменной и объясняющими переменными. В частности, для модели парной линейной регрессии коэффициент детерминации равен квадрату обычного коэффициента корреляции между y и x.\n",
    "\n",
    "Она выражается следующей фромулой:\n",
    "\n",
    "$\\huge R^2=1-\\frac{\\sigma^2}{\\sigma_y^2}$,\n",
    "\n",
    "где:\n",
    "\n",
    "$\\large \\sigma^2$ - условная дисперсия зависимой переменной;\n",
    "\n",
    "$\\large \\sigma_y^2$ - собственная дисперсия модели, необъячненная дисперсия;\n",
    "\n",
    "[Википедия](https://ru.wikipedia.org/wiki/%D0%9A%D0%BE%D1%8D%D1%84%D1%84%D0%B8%D1%86%D0%B8%D0%B5%D0%BD%D1%82_%D0%B4%D0%B5%D1%82%D0%B5%D1%80%D0%BC%D0%B8%D0%BD%D0%B0%D1%86%D0%B8%D0%B8)\n",
    "\n",
    "[Документация](https://scikit-learn.org/stable/modules/generated/sklearn.metrics.r2_score.html#sklearn.metrics.r2_score)"
   ]
  },
  {
   "cell_type": "code",
   "execution_count": 1,
   "metadata": {},
   "outputs": [
    {
     "name": "stdout",
     "output_type": "stream",
     "text": [
      "0.9486081370449679\n",
      "0.9382566585956417\n",
      "1.0\n",
      "0.0\n",
      "-3.0\n"
     ]
    }
   ],
   "source": [
    "from sklearn.metrics import r2_score\n",
    "y_true = [3, -0.5, 2, 7]\n",
    "y_pred = [2.5, 0.0, 2, 8]\n",
    "print(r2_score(y_true, y_pred))\n",
    "y_true = [[0.5, 1], [-1, 1], [7, -6]]\n",
    "y_pred = [[0, 2], [-1, 2], [8, -5]]\n",
    "print(r2_score(y_true, y_pred, multioutput='variance_weighted'))\n",
    "y_true = [1, 2, 3]\n",
    "y_pred = [1, 2, 3]\n",
    "print(r2_score(y_true, y_pred))\n",
    "y_true = [1, 2, 3]\n",
    "y_pred = [2, 2, 2]\n",
    "print(r2_score(y_true, y_pred))\n",
    "y_true = [1, 2, 3]\n",
    "y_pred = [3, 2, 1]\n",
    "print(r2_score(y_true, y_pred))"
   ]
  },
  {
   "cell_type": "markdown",
   "metadata": {},
   "source": [
    "## Средняя Квадратическая Ошибка\n",
    "Среднеквадрати́ческое отклоне́ние (среднее квадрати́ческое отклоне́ние, среднеквадрати́чное отклоне́ние, квадрати́чное отклоне́ние, станда́ртное отклоне́ние, станда́ртный разбро́с, средняя квадратическая ошибка) — в теории вероятностей и статистике наиболее распространённый показатель рассеивания значений случайной величины относительно её математического ожидания. Обычно указанные термины означают квадратный корень из дисперсии случайной величины, но иногда могут означать тот или иной вариант оценки этого значения. Иначе, она определяется как средний квадрат ошибок модели (средний квадрат разностей между предсказанием и реальным значением) - MSE - Mean Squared Error.\n",
    "\n",
    "В литературе обычно обозначают греческой буквой ${\\displaystyle \\sigma }$  (сигма).\n",
    "\n",
    "Его формула:\n",
    "\n",
    "$\\huge MSE=\\frac{1}{n}\\sum_{i=1}^{n} (y_{i}-g_{i})^2$,\n",
    "\n",
    "где:\n",
    "\n",
    "$\\large n$ - количество значений (семплов);\n",
    "\n",
    "$\\large y_{i}$ - предсказание из i-го индекса в наборе всех значений;   \n",
    "\n",
    "$\\large g_{i}$ - реальное значение из i-го индекса в наборе всех значений; \n",
    "\n",
    "[Википедия 1](https://ru.wikipedia.org/wiki/%D0%A1%D1%80%D0%B5%D0%B4%D0%BD%D0%B5%D0%BA%D0%B2%D0%B0%D0%B4%D1%80%D0%B0%D1%82%D0%B8%D1%87%D0%B5%D1%81%D0%BA%D0%BE%D0%B5_%D0%BE%D1%82%D0%BA%D0%BB%D0%BE%D0%BD%D0%B5%D0%BD%D0%B8%D0%B5)\n",
    "\n",
    "[Википедия 2](https://en.wikipedia.org/wiki/Mean_squared_error)\n",
    "\n",
    "[Документация](https://scikit-learn.org/stable/modules/generated/sklearn.metrics.mean_squared_error.html#sklearn.metrics.mean_squared_error)"
   ]
  },
  {
   "cell_type": "code",
   "execution_count": 3,
   "metadata": {},
   "outputs": [
    {
     "name": "stdout",
     "output_type": "stream",
     "text": [
      "0.375\n",
      "0.7083333333333334\n",
      "[0.41666667 1.        ]\n",
      "0.825\n"
     ]
    }
   ],
   "source": [
    "from sklearn.metrics import mean_squared_error\n",
    "y_true = [3, -0.5, 2, 7]\n",
    "y_pred = [2.5, 0.0, 2, 8]\n",
    "print(mean_squared_error(y_true, y_pred))\n",
    "y_true = [[0.5, 1],[-1, 1],[7, -6]]\n",
    "y_pred = [[0, 2],[-1, 2],[8, -5]]\n",
    "print(mean_squared_error(y_true, y_pred))\n",
    "print(mean_squared_error(y_true, y_pred, multioutput='raw_values'))\n",
    "print(mean_squared_error(y_true, y_pred, multioutput=[0.3, 0.7]))"
   ]
  },
  {
   "cell_type": "markdown",
   "metadata": {},
   "source": [
    "## Корень Средней Квадратической Ошибки\n",
    "Корень из MSE (Иногда - корень средней квадратической девиации), служащий показателем величны *остатков* модели - того, что модель не объясняет.\n",
    "\n",
    "Формула:\n",
    "\n",
    "$\\large RMSE=RMSD=\\sqrt{MSE}$.\n",
    "\n",
    "[Википедия](https://en.wikipedia.org/wiki/Root-mean-square_deviation)"
   ]
  },
  {
   "cell_type": "code",
   "execution_count": 4,
   "metadata": {},
   "outputs": [
    {
     "name": "stdout",
     "output_type": "stream",
     "text": [
      "0.6123724356957945\n"
     ]
    }
   ],
   "source": [
    "from sklearn.metrics import mean_squared_error\n",
    "from numpy import sqrt\n",
    "y_true = [3, -0.5, 2, 7]\n",
    "y_pred = [2.5, 0.0, 2, 8]\n",
    "print(sqrt(mean_squared_error(y_true, y_pred)))"
   ]
  },
  {
   "cell_type": "markdown",
   "metadata": {},
   "source": [
    "## Средняя Абсолютная Ошибка\n",
    "\n",
    "Средняя абсолютная ошибка - это средняя разность ошибок модели. Если умножить ее на 100%, то получится ошибка модели в %.\n",
    "\n",
    "Формула:\n",
    "\n",
    "$\\huge MAE=\\frac{1}{n}\\sum_{i=1}^{n} (y_{i}-g_{i})$,\n",
    "\n",
    "где:\n",
    "\n",
    "$\\large n$ - количество значений (семплов);\n",
    "\n",
    "$\\large y_{i}$ - предсказание из i-го индекса в наборе всех значений;   \n",
    "\n",
    "$\\large g_{i}$ - реальное значение из i-го индекса в наборе всех значений; \n",
    "\n",
    "[Википедия](https://en.wikipedia.org/wiki/Mean_absolute_error)\n",
    "\n",
    "[Документация](https://scikit-learn.org/stable/modules/generated/sklearn.metrics.mean_absolute_error.html#sklearn.metrics.mean_absolute_error)"
   ]
  },
  {
   "cell_type": "code",
   "execution_count": 5,
   "metadata": {},
   "outputs": [
    {
     "name": "stdout",
     "output_type": "stream",
     "text": [
      "0.5\n",
      "0.75\n",
      "[0.5 1. ]\n",
      "0.85\n"
     ]
    }
   ],
   "source": [
    "from sklearn.metrics import mean_absolute_error\n",
    "y_true = [3, -0.5, 2, 7]\n",
    "y_pred = [2.5, 0.0, 2, 8]\n",
    "print(mean_absolute_error(y_true, y_pred))\n",
    "y_true = [[0.5, 1], [-1, 1], [7, -6]]\n",
    "y_pred = [[0, 2], [-1, 2], [8, -5]]\n",
    "print(mean_absolute_error(y_true, y_pred))\n",
    "print(mean_absolute_error(y_true, y_pred, multioutput='raw_values'))\n",
    "print(mean_absolute_error(y_true, y_pred, multioutput=[0.3, 0.7]))"
   ]
  },
  {
   "cell_type": "code",
   "execution_count": null,
   "metadata": {},
   "outputs": [],
   "source": []
  }
 ],
 "metadata": {
  "kernelspec": {
   "display_name": "Python 3",
   "language": "python",
   "name": "python3"
  },
  "language_info": {
   "codemirror_mode": {
    "name": "ipython",
    "version": 3
   },
   "file_extension": ".py",
   "mimetype": "text/x-python",
   "name": "python",
   "nbconvert_exporter": "python",
   "pygments_lexer": "ipython3",
   "version": "3.7.0"
  }
 },
 "nbformat": 4,
 "nbformat_minor": 2
}
