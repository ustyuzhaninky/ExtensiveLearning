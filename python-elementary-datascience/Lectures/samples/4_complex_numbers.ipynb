{
 "cells": [
  {
   "cell_type": "markdown",
   "metadata": {},
   "source": [
    "## Работа с комплексными числами"
   ]
  },
  {
   "cell_type": "code",
   "execution_count": 14,
   "metadata": {},
   "outputs": [],
   "source": [
    "import numpy as np\n",
    "import matplotlib.pyplot as plt"
   ]
  },
  {
   "cell_type": "code",
   "execution_count": 2,
   "metadata": {},
   "outputs": [
    {
     "name": "stdout",
     "output_type": "stream",
     "text": [
      "(1+2j)\n",
      "(17+23j)\n",
      "[ 1.+0.j -2.+3.j  3.-4.j]\n"
     ]
    }
   ],
   "source": [
    "# Создание\n",
    "\n",
    "## Способ 1\n",
    "nm = complex(1,2)\n",
    "print(nm)\n",
    "## Cпособ 2\n",
    "nm = 17+1j*23\n",
    "print(nm)\n",
    "## Способ 2\n",
    "reals = np.array([1, -2, 3])\n",
    "imags = np.array([0, 3, -4])\n",
    "nm = reals+1j*imags\n",
    "print(nm)"
   ]
  },
  {
   "cell_type": "code",
   "execution_count": 4,
   "metadata": {},
   "outputs": [
    {
     "name": "stdout",
     "output_type": "stream",
     "text": [
      "(4.184178695000364+4.0629239903910275j)\n",
      "(0.6666666666666666-0.3333333333333333j)\n"
     ]
    }
   ],
   "source": [
    "# Операции\n",
    "print(np.sqrt(1+1j*34))\n",
    "print(nm.mean())"
   ]
  },
  {
   "cell_type": "code",
   "execution_count": 8,
   "metadata": {},
   "outputs": [
    {
     "name": "stdout",
     "output_type": "stream",
     "text": [
      "[1.         3.60555128 5.        ]\n",
      "[1.         3.60555128 5.        ]\n"
     ]
    }
   ],
   "source": [
    "# Извлечение Амплитуды\n",
    "print(np.abs(nm))\n",
    "print(np.sqrt(np.real(nm)**2+np.imag(nm)**2))"
   ]
  },
  {
   "cell_type": "code",
   "execution_count": 13,
   "metadata": {},
   "outputs": [
    {
     "name": "stdout",
     "output_type": "stream",
     "text": [
      "0.029403288204005115\n",
      "[ 1.57079633 -0.5880026   2.49809154]\n"
     ]
    }
   ],
   "source": [
    "# Извлечение Фазы\n",
    "print(np.arctan2(1,34))\n",
    "print(np.arctan2(np.real(nm),np.imag(nm)))"
   ]
  },
  {
   "cell_type": "code",
   "execution_count": 29,
   "metadata": {},
   "outputs": [
    {
     "data": {
      "image/png": "[encoded data removed]",
      "text/plain": [
       "<Figure size 432x288 with 1 Axes>"
      ]
     },
     "metadata": {
      "needs_background": "light"
     },
     "output_type": "display_data"
    }
   ],
   "source": [
    "# Комплексные оси координат - комплексная плоскость\n",
    "fig, ax = plt.subplots()\n",
    "ax.set_title(\"Комплексная плоскость\")\n",
    "ax.set_xlabel(\"Re(w)\")\n",
    "ax.set_ylabel(\"Im(w)\")\n",
    "ax.grid()\n",
    "ax.scatter(nm.real, nm.imag)\n",
    "plt.show()"
   ]
  },
  {
   "cell_type": "code",
   "execution_count": 28,
   "metadata": {},
   "outputs": [
    {
     "data": {
      "image/png": "[encoded data removed]",
      "text/plain": [
       "<Figure size 432x288 with 1 Axes>"
      ]
     },
     "metadata": {
      "needs_background": "light"
     },
     "output_type": "display_data"
    }
   ],
   "source": [
    "# Комплексные оси координат - комплексная плоскость\n",
    "fig, ax = plt.subplots()\n",
    "ax.set_title(\"Комплексная плоскость\")\n",
    "ax.set_xlabel(\"Re(w)\")\n",
    "ax.set_ylabel(\"Im(w)\")\n",
    "ax.grid()\n",
    "# Перемещаем оси x и y в центр, проходя через точку (0,0)\n",
    "ax.spines['left'].set_position('center')\n",
    "ax.spines['bottom'].set_position('center')\n",
    "# Удаляем дополнительне оси\n",
    "ax.spines['right'].set_color('none')\n",
    "ax.spines['top'].set_color('none')\n",
    "ax.scatter(nm.real, nm.imag)\n",
    "plt.show()"
   ]
  },
  {
   "cell_type": "code",
   "execution_count": null,
   "metadata": {},
   "outputs": [],
   "source": []
  }
 ],
 "metadata": {
  "kernelspec": {
   "display_name": "Python 3",
   "language": "python",
   "name": "python3"
  },
  "language_info": {
   "codemirror_mode": {
    "name": "ipython",
    "version": 3
   },
   "file_extension": ".py",
   "mimetype": "text/x-python",
   "name": "python",
   "nbconvert_exporter": "python",
   "pygments_lexer": "ipython3",
   "version": "3.7.2"
  }
 },
 "nbformat": 4,
 "nbformat_minor": 2
}
