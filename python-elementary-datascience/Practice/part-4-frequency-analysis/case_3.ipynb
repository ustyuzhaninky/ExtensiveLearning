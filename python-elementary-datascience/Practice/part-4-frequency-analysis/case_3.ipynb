{
 "cells": [
  {
   "cell_type": "markdown",
   "metadata": {},
   "source": [
    "## Задача 3\n",
    "Напишите самостоятельно функии прямого и обратного преобразования Фурье.\n",
    "\n",
    "Алгоритм выполнения:\n",
    "    1. Создайте тела функции, которая приведена ниже;\n",
    "    2. Запустите последующие проверочные ячейки, чтобы убедиться, что функция верна."
   ]
  },
  {
   "cell_type": "code",
   "execution_count": 1,
   "metadata": {},
   "outputs": [],
   "source": [
    "%matplotlib inline\n",
    "\n",
    "# импорты\n",
    "import numpy as np\n",
    "import matplotlib.pyplot as plt"
   ]
  },
  {
   "cell_type": "code",
   "execution_count": null,
   "metadata": {},
   "outputs": [],
   "source": [
    "# ваше решение\n",
    "def my_fft(somedata):\n",
    "    # здесь нужно разместить ваш код\n",
    "    \n",
    "    return list()    #нужно вернуть список комплексных амплитуд\n",
    "\n",
    "def my_ifft(somedata):\n",
    "    # здесь нужно разместить ваш код\n",
    "    \n",
    "    return list()    #нужно вернуть список комплексных амплитуд"
   ]
  },
  {
   "cell_type": "code",
   "execution_count": null,
   "metadata": {},
   "outputs": [],
   "source": [
    "# данные для проверки\n",
    "import scipy.fftpack\n",
    "N = 600\n",
    "T = 1.0 / 800.0\n",
    "x = np.linspace(0.0, N*T, N)\n",
    "y = np.sin(50.0 * 2.0*np.pi*x) + 0.5*np.sin(80.0 * 2.0*np.pi*x)"
   ]
  },
  {
   "cell_type": "code",
   "execution_count": null,
   "metadata": {},
   "outputs": [],
   "source": [
    "# проверка 1\n",
    "fy1 = my_fft(y)\n",
    "fy2 = scipy.fftpack.fft(y)\n",
    "print(fy1[:10])\n",
    "print(f12[:10])"
   ]
  },
  {
   "cell_type": "code",
   "execution_count": null,
   "metadata": {},
   "outputs": [],
   "source": [
    "# проверка 2\n",
    "y1 = my_ifft(my_fft(y))\n",
    "print(y)\n",
    "print(y1)"
   ]
  },
  {
   "cell_type": "code",
   "execution_count": null,
   "metadata": {},
   "outputs": [],
   "source": [
    "# проверка 3\n",
    "xf = np.linspace(0.0, 1.0/(2.0*T), N/2)\n",
    "yf1 = scipy.fftpack.fft(y)\n",
    "yf2 = my_fft(y)\n",
    "\n",
    "fig1, ax1 = plt.subplots()\n",
    "ax1.grid()\n",
    "ax1.legend()\n",
    "ax1.title(\"Сравнение АЧХ\")\n",
    "ax1.plot(xf, 2.0/N * np.abs(yf), label=\"scipy\")\n",
    "ax1.plot(xf, 2.0/N * np.abs(yf2), label=\"Моя функция\")\n",
    "\n",
    "fig2, ax2 = plt.subplots()\n",
    "ax2.grid()\n",
    "ax2.legend()\n",
    "ax1.title(\"Сравнение обратного преобразования\")\n",
    "ax2.plot(x[:100], scipy.fftpack.ifft(yf)[:100], label=\"scipy\")\n",
    "ax2.plot(x[:100], my_ifft(my_ifft(yf2))[:100], label=\"Моя функция\")\n",
    "plt.show()"
   ]
  }
 ],
 "metadata": {
  "kernelspec": {
   "display_name": "Python 3",
   "language": "python",
   "name": "python3"
  },
  "language_info": {
   "codemirror_mode": {
    "name": "ipython",
    "version": 3
   },
   "file_extension": ".py",
   "mimetype": "text/x-python",
   "name": "python",
   "nbconvert_exporter": "python",
   "pygments_lexer": "ipython3",
   "version": "3.7.2"
  }
 },
 "nbformat": 4,
 "nbformat_minor": 2
}
