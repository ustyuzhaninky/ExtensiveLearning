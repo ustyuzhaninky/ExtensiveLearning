{
 "cells": [
  {
   "cell_type": "markdown",
   "metadata": {},
   "source": [
    "## Задача 1\n",
    "Преобразуйте все числовые колонки в массиве данных [https://github.com/ustyuzhaninky/ExtensiveLearning/blob/master/python-elementary-datascience/Practice/Datasets/XLMETH.csv] в спектрограммы и  отобразите их на одном полотне друг под другом.\n",
    "\n",
    "Алгоритм выполнения:\n",
    "     1. Загрузите массив данных и удалите все колонки с нечисловыми типами данных;\n",
    "     2. Удалите строки с NaN;\n",
    "     3. Выполните преобразование для каждой из оставшихся колонок и отобразите результаты на графике.\n"
   ]
  },
  {
   "cell_type": "code",
   "execution_count": null,
   "metadata": {},
   "outputs": [],
   "source": [
    "# Ваше решение"
   ]
  }
 ],
 "metadata": {
  "kernelspec": {
   "display_name": "Python 3",
   "language": "python",
   "name": "python3"
  },
  "language_info": {
   "codemirror_mode": {
    "name": "ipython",
    "version": 3
   },
   "file_extension": ".py",
   "mimetype": "text/x-python",
   "name": "python",
   "nbconvert_exporter": "python",
   "pygments_lexer": "ipython3",
   "version": "3.7.0"
  }
 },
 "nbformat": 4,
 "nbformat_minor": 2
}
