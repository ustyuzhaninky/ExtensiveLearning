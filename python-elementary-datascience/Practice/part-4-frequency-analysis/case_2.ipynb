{
 "cells": [
  {
   "attachments": {},
   "cell_type": "markdown",
   "metadata": {},
   "source": [
    "## Задача 2\n",
    "Сделайте функцию, которая печатает график в координатах «Im-Re» со всеми комплексными числами из переданного в нее массива.\n",
    "\n",
    "Алгоритм выполнения:\n",
    "    1. Создайте тело функции, которая приведена ниже;\n",
    "    2. Запустите последующие проверочные ячейки, чтобы убедиться, что функция верна."
   ]
  },
  {
   "cell_type": "code",
   "execution_count": 1,
   "metadata": {},
   "outputs": [],
   "source": [
    "%matplotlib inline\n",
    "\n",
    "# импорты\n",
    "import numpy as np\n",
    "import matplotlib.pyplot as plt"
   ]
  },
  {
   "cell_type": "code",
   "execution_count": null,
   "metadata": {},
   "outputs": [],
   "source": [
    "# ваше решение\n",
    "def my_complex_printer(somedata):\n",
    "    # здесь нужно разместить ваш код"
   ]
  },
  {
   "cell_type": "code",
   "execution_count": null,
   "metadata": {},
   "outputs": [],
   "source": [
    "# Проверка 1\n",
    "real = np.array([-2, 3, 4, 5])\n",
    "imag = np.array([1, -3, 4, -10])\n",
    "cdata = real+ 1j*imag\n",
    "my_complex_printer(cdata)"
   ]
  },
  {
   "cell_type": "code",
   "execution_count": null,
   "metadata": {},
   "outputs": [],
   "source": [
    "# Проверка 2\n",
    "real = np.random.normal(size=15)\n",
    "imag = np.random.normal(size=15)\n",
    "cdata = real+ 1j*imag\n",
    "my_complex_printer(cdata)"
   ]
  },
  {
   "cell_type": "code",
   "execution_count": null,
   "metadata": {},
   "outputs": [],
   "source": [
    "# Проверка 3\n",
    "real = np.array([0, 3, 4, 0])\n",
    "imag = np.array([0, -3, 0, -10])\n",
    "cdata = real+ 1j*imag\n",
    "my_complex_printer(cdata)"
   ]
  }
 ],
 "metadata": {
  "kernelspec": {
   "display_name": "Python 3",
   "language": "python",
   "name": "python3"
  },
  "language_info": {
   "codemirror_mode": {
    "name": "ipython",
    "version": 3
   },
   "file_extension": ".py",
   "mimetype": "text/x-python",
   "name": "python",
   "nbconvert_exporter": "python",
   "pygments_lexer": "ipython3",
   "version": "3.7.2"
  }
 },
 "nbformat": 4,
 "nbformat_minor": 2
}
