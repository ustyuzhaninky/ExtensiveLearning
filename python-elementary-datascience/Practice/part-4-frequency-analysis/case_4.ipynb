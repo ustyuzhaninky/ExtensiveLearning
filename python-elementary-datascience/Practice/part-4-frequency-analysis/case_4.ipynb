{
 "cells": [
  {
   "cell_type": "markdown",
   "metadata": {},
   "source": [
    "## Задача 4\n",
    "Постройте фильтр Беттерворта для фильтрации содержимого колонки \"minper\" датасета [https://github.com/ustyuzhaninky/ExtensiveLearning/blob/master/python-elementary-datascience/Practice/Datasets/XLMETH.csv] с удалением всего, что выше частоты 60Гц. Используйте библиотеку Scipy.\n",
    "\n",
    "Алгоритм выполнения:\n",
    "    1. Загрузите массив данных и удалите все колонки с нечисловыми типами данных;\n",
    "    2. Удалите строки с NaN;\n",
    "    3. Создайте фильтр Баттерворта, используя частоту среза в 60Гц;\n",
    "    4. Выполните прямое преобразование Фурье для колонки \"minper\";\n",
    "    5. Выполните фильтрацию;\n",
    "    6. Отобразите на одних осях исходный и фильтрованный сигнал."
   ]
  },
  {
   "cell_type": "code",
   "execution_count": null,
   "metadata": {},
   "outputs": [],
   "source": [
    "# Ваше решение"
   ]
  }
 ],
 "metadata": {
  "kernelspec": {
   "display_name": "Python 3",
   "language": "python",
   "name": "python3"
  },
  "language_info": {
   "codemirror_mode": {
    "name": "ipython",
    "version": 3
   },
   "file_extension": ".py",
   "mimetype": "text/x-python",
   "name": "python",
   "nbconvert_exporter": "python",
   "pygments_lexer": "ipython3",
   "version": "3.7.2"
  }
 },
 "nbformat": 4,
 "nbformat_minor": 2
}
