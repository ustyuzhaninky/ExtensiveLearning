{
 "cells": [
  {
   "cell_type": "markdown",
   "metadata": {},
   "source": [
    "# Задание 1: Первичная обработка данных\n",
    "1. Загрузить данные из avocado_prices.csv;\n",
    "2. Вывести статистику по данным;\n",
    "3. Сделать нормирование [0..1] или [-1..1];\n",
    "4. Сделать нулевое среднее и единичную дисперсию;\n",
    "5. Сделать срез ровно половины всех данных в новой переменной;\n",
    "6. Сохранить данные из пунктов 1-5 в файлы excel (*.xlsx) с разными именами.\n"
   ]
  },
  {
   "cell_type": "code",
   "execution_count": null,
   "metadata": {},
   "outputs": [],
   "source": [
    "df = # запишите сюда исходный дата фрейм"
   ]
  },
  {
   "cell_type": "code",
   "execution_count": null,
   "metadata": {},
   "outputs": [],
   "source": [
    "df_stat = # сюда запишите статистику для дата фрейма"
   ]
  },
  {
   "cell_type": "code",
   "execution_count": null,
   "metadata": {},
   "outputs": [],
   "source": [
    "df_ranged = # запишите сюда дата фрейм с единым диапазоном"
   ]
  },
  {
   "cell_type": "code",
   "execution_count": null,
   "metadata": {},
   "outputs": [],
   "source": [
    "df_norm = # запишите сюда нормированный дата фрейм"
   ]
  }
 ],
 "metadata": {
  "kernelspec": {
   "display_name": "Python 3",
   "language": "python",
   "name": "python3"
  },
  "language_info": {
   "codemirror_mode": {
    "name": "ipython",
    "version": 3
   },
   "file_extension": ".py",
   "mimetype": "text/x-python",
   "name": "python",
   "nbconvert_exporter": "python",
   "pygments_lexer": "ipython3",
   "version": "3.7.0"
  }
 },
 "nbformat": 4,
 "nbformat_minor": 2
}
