{
 "cells": [
  {
   "cell_type": "markdown",
   "metadata": {},
   "source": [
    "# Задание 2: Запросы к данным\n",
    "\n",
    "    1. Загрузите данные из таблицы \"googleplaystore.csv\";\n",
    "    2. Найдите среди данных и выведите имена всех приложений с рейтингом 5.0;\n",
    "    2. Найдите среди данных и выведите имена всех приложений с количеством установок более 100тыс. и рейтингом от 3.5 до 4.7;\n",
    "    3. Найдите среди данных и удалите строки для всех приложений с рейтингом 2 и ниже, или количеством установок меньше 100 и целевой платформой ниже android 4.0, или целевой платформой ниже android 4.0.3;\n",
    "    4. Разделите все приложения по жанрам в разные таблицы и выведите их;\n",
    "    5. Выведите пять самых новых ИГР;"
   ]
  },
  {
   "cell_type": "code",
   "execution_count": null,
   "metadata": {},
   "outputs": [],
   "source": []
  }
 ],
 "metadata": {
  "kernelspec": {
   "display_name": "Python 3",
   "language": "python",
   "name": "python3"
  },
  "language_info": {
   "codemirror_mode": {
    "name": "ipython",
    "version": 3
   },
   "file_extension": ".py",
   "mimetype": "text/x-python",
   "name": "python",
   "nbconvert_exporter": "python",
   "pygments_lexer": "ipython3",
   "version": "3.7.0"
  }
 },
 "nbformat": 4,
 "nbformat_minor": 2
}
