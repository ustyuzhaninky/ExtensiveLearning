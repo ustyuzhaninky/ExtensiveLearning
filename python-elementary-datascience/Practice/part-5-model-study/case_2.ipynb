{
 "cells": [
  {
   "cell_type": "markdown",
   "metadata": {},
   "source": [
    "## Задача 2\n",
    "Используя модель из [Задачи 1](case_1.ipynb), рассчитайте показатели \"MSE\", \"MAE\", \"$R^2$\", \"RMSE\" для нее. Сведите полученные значения для тестовой и тренировочной выборок в тиблицу, используя pandas.DataFrame. Сохраните ее в отдельном файле \"*.xlsx\".\n",
    "\n",
    "Ссылки:\n",
    "* [Методы оценки в SkiPy](https://scikit-learn.org/stable/modules/model_evaluation.html)\n",
    "* [Среднее квардратическое отклонение - MSE](https://scikit-learn.org/stable/modules/generated/sklearn.metrics.mean_squared_error.html#sklearn.metrics.mean_squared_error)\n",
    "* [Оценка коэффициента Детерминации R^2](https://scikit-learn.org/stable/modules/generated/sklearn.metrics.r2_score.html#sklearn.metrics.r2_score)\n",
    "* [Средняя абсолютная ошибка](https://scikit-learn.org/stable/modules/generated/sklearn.metrics.mean_absolute_error.html#sklearn.metrics.mean_absolute_error)"
   ]
  },
  {
   "cell_type": "code",
   "execution_count": null,
   "metadata": {},
   "outputs": [],
   "source": [
    "# ваше решение"
   ]
  }
 ],
 "metadata": {
  "kernelspec": {
   "display_name": "Python 3",
   "language": "python",
   "name": "python3"
  },
  "language_info": {
   "codemirror_mode": {
    "name": "ipython",
    "version": 3
   },
   "file_extension": ".py",
   "mimetype": "text/x-python",
   "name": "python",
   "nbconvert_exporter": "python",
   "pygments_lexer": "ipython3",
   "version": "3.7.0"
  }
 },
 "nbformat": 4,
 "nbformat_minor": 2
}
