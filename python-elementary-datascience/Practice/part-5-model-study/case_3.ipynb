{
 "cells": [
  {
   "cell_type": "markdown",
   "metadata": {},
   "source": [
    "## Задача 3\n",
    "Используя датасет и его предварительную обработку из [Задачи 1](case_1.ipynb), сделайте две другие модели: Стохастический Градиентный Спуск для SVM и Дерево Принятия Решений. Для каждой из моделей, вычислите показатели из [Задачи 2](case_2.ipynb).\n",
    "\n",
    "Ссылки:\n",
    "\n",
    "* [SGD-модели](https://scikit-learn.org/stable/modules/sgd.html)\n",
    "* [Деревья принятия решений](https://scikit-learn.org/stable/modules/tree.html)"
   ]
  },
  {
   "cell_type": "code",
   "execution_count": null,
   "metadata": {},
   "outputs": [],
   "source": [
    "# ваше решение"
   ]
  }
 ],
 "metadata": {
  "kernelspec": {
   "display_name": "Python 3",
   "language": "python",
   "name": "python3"
  },
  "language_info": {
   "codemirror_mode": {
    "name": "ipython",
    "version": 3
   },
   "file_extension": ".py",
   "mimetype": "text/x-python",
   "name": "python",
   "nbconvert_exporter": "python",
   "pygments_lexer": "ipython3",
   "version": "3.7.0"
  }
 },
 "nbformat": 4,
 "nbformat_minor": 2
}
