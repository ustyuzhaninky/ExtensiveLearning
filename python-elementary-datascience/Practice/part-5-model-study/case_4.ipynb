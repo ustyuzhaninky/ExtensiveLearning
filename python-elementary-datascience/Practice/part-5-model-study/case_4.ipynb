{
 "cells": [
  {
   "cell_type": "markdown",
   "metadata": {},
   "source": [
    "## Задача 4\n",
    "Закончите приведенную ниже функцию **my_SGD**, которая итеративно ищет наиболее подходящие веса произвольной функции  модели **func**, которая принимает два аргумента - `Х` и веса модели - `weights`, используя алгоритм градиентного спуска. Используйте клетки ниже для проверки вашего алгоритма обучения. Массив `Y` подразумевается содержащим ее реальные значения. Он также равен по размерности выходу модели (некоторому `Y_model` ):\n",
    "```python\n",
    "Y.shape==Y_model.shape    # True\n",
    "```\n",
    "\n",
    "Условия задачи:\n",
    "\n",
    "* Функция `func` определяется как (пример):\n",
    "    ```python\n",
    "       def func(X, weights):\n",
    "           return X*weights\n",
    "    ```\n",
    "* `weights` - вектор размерности `(n_params)`, где:\n",
    "    - n_params - количество параметров;\n",
    "    \n",
    "    Так, для модели вида `y=ax+b` эта матрица будет:\n",
    "        ```python\n",
    "           weights = np.array([a, b])\n",
    "           print(weights.shape)   #будет выведено (2,)\n",
    "        ```\n",
    "* `X` - двухмерная матрица размерности `(samples, features)`, где\n",
    "     - samples - количество примеров;\n",
    "     - features - количество входов модели.\n",
    "     \n",
    "     Так, два примера для модели с двумя входами будут выглядеть следующим образом:\n",
    "         ```python\n",
    "            X = np.array([[0.23, 0.34], [0.0123, 0.78]])\n",
    "            print(X.shape)   # выведет (2, 2)\n",
    "         ```\n",
    "* `Y` - двухмерная матрица размерности `(samples, features)` (или же `(samples, 1)`), где\n",
    "     - samples - количество примеров;\n",
    "     - features - количество выходов модели (равно 1).\n",
    "     \n",
    "     Так, для двух примеров эта матрица будет:\n",
    "         ```python\n",
    "            Y = np.array([[0.2], [0.35]])\n",
    "            print(Y.shape)    # выведет (2, 1)\n",
    "         ```\n",
    "* Задача считается решенной, если все три проверки обучились без ошибок, если вы не использовали ничего больше, кроме пакета numpy."
   ]
  },
  {
   "cell_type": "code",
   "execution_count": 53,
   "metadata": {},
   "outputs": [],
   "source": [
    "import numpy as np"
   ]
  },
  {
   "cell_type": "code",
   "execution_count": 54,
   "metadata": {},
   "outputs": [],
   "source": [
    "def my_SGD(func, weights, x_train, y_train, iterations):\n",
    "    # Ваш код, изменяющий веса weights и обучающий тем самым некотору функцию func\n",
    "    # iterations - кол-во итераций, которое нужно сделать\n",
    "    for i in range(iterations):\n",
    "        \n",
    "        for j in range(len(x_train)):\n",
    "            ## ваш код\n",
    "            Y_model = 0.0    # рассчитайте выход модели с текущими весами\n",
    "            loss = 0.0    # рассчитайте на функцию потерь (ошибки модели)\n",
    "            weights = np.array([])    # рассчитайте новые веса модели\n",
    "            ## ваш код\n",
    "            \n",
    "            # не трогайте остальное\n",
    "            # \"Эти строки будут показывать прогресс обучения\"\n",
    "            filledLength = int(50 * j // len(x_train))\n",
    "            bar = '█' * filledLength + '-' * (50 - filledLength)   # Прогресс\n",
    "            print(\"\\r [Iteration %i] \\tProgress: |%s| \\tloss=%f \" %(i, bar, loss), end = '\\r')\n",
    "        print()\n",
    "    return weights"
   ]
  },
  {
   "cell_type": "code",
   "execution_count": 4,
   "metadata": {},
   "outputs": [],
   "source": [
    "# Проверка 1\n",
    "def func(X, weights):\n",
    "    return X * weights[0] + weights[1]\n",
    "weights = np.zeros((2))\n",
    "X = np.random.rayleigh(size=300)\n",
    "Y = X*0.23 + 0.11 + 0.05*np.random.rayleigh(size=1)\n",
    "X = X.reshape(X.shape[0], 1)\n",
    "Y = Y.reshape(Y.shape[0], 1)\n",
    "func(X, weights)\n",
    "result = my_SGD(func, weights, X, Y, 100)\n",
    "print([0.23, 0.11])\n",
    "print(result)"
   ]
  },
  {
   "cell_type": "code",
   "execution_count": null,
   "metadata": {},
   "outputs": [],
   "source": [
    "# Проверка 2\n",
    "def func(X, weights):\n",
    "    return weights[0] / (1 - np.exp(-weights[1] * X))\n",
    "weights = np.zeros((2))\n",
    "X = np.random.rayleigh(size=300)\n",
    "Y =  0.23 / (1 - np.exp(-0.11 * X) + 0.13*np.random.rayleigh(size=1)) + 0.01*np.random.rayleigh(size=1)\n",
    "X = X.reshape(X.shape[0], 1)\n",
    "Y = Y.reshape(Y.shape[0], 1)\n",
    "func(X, weights)\n",
    "result = my_SGD(func, weights, X, Y, 100)\n",
    "print([0.23, 0.11])\n",
    "print(result)"
   ]
  },
  {
   "cell_type": "code",
   "execution_count": null,
   "metadata": {},
   "outputs": [],
   "source": [
    "# Проверка 3\n",
    "def func(X, weights):\n",
    "    return weights[0] * np.sin(weights[1] * X + weights[2]) \n",
    "weights = np.zeros((3))\n",
    "X = np.random.rayleigh(size=300)\n",
    "Y =  0.23 * np.sin(X*0.11*0.01*np.random.rayleigh(size=1) + 0.037) + 0.01*np.random.rayleigh(size=1)\n",
    "X = X.reshape(X.shape[0], 1)\n",
    "Y = Y.reshape(Y.shape[0], 1)\n",
    "func(X, weights)\n",
    "result = my_SGD(func, weights, X, Y, 100)\n",
    "print([0.23, 0.11, 0.037])\n",
    "print(result)"
   ]
  },
  {
   "cell_type": "code",
   "execution_count": null,
   "metadata": {},
   "outputs": [],
   "source": []
  }
 ],
 "metadata": {
  "kernelspec": {
   "display_name": "Python 3",
   "language": "python",
   "name": "python3"
  },
  "language_info": {
   "codemirror_mode": {
    "name": "ipython",
    "version": 3
   },
   "file_extension": ".py",
   "mimetype": "text/x-python",
   "name": "python",
   "nbconvert_exporter": "python",
   "pygments_lexer": "ipython3",
   "version": "3.7.0"
  }
 },
 "nbformat": 4,
 "nbformat_minor": 2
}
