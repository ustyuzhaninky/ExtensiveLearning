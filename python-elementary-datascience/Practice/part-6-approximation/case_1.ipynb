{
 "cells": [
  {
   "cell_type": "markdown",
   "metadata": {},
   "source": [
    "## Задача 1: аппроксимация функций рядом Тейлора\n",
    "Закончите приведенную ниже функцию **my_taylor_generator**, которая разлагает функцию **func**, принимающую один аргумент - `Х`, в ряд Тейлора и возвращает *функцию*, имеющую идентичное поведение. Используйте клетки ниже для проверки вашего алгоритма.\n",
    "\n",
    "Условия задачи:\n",
    "\n",
    "* Функция `func` определяется как (пример):\n",
    "    ```python\n",
    "       def func(X):\n",
    "           if X > 0:\n",
    "               return X\n",
    "           else:\n",
    "               return 0\n",
    "    ```\n",
    "* `X` - вектор размерности `(samples)`, где\n",
    "     - samples - количество примеров;\n",
    "\n",
    "* `Y` - вектор размерности `(samples)`, где\n",
    "     - samples - количество примеров;\n",
    "     \n",
    "* Задача считается решенной, если все три проверки обучились без ошибок, если вы не использовали ничего больше, кроме пакета numpy.\n",
    "\n",
    "**Дополнительно**: Используйте слудующий пример для вычисления факториала:\n",
    "```python\n",
    "from scipy.special import factorial\n",
    "arr = np.array([3, 4, 5])\n",
    "factorial(arr, exact=False)\n",
    "factorial(arr, exact=True)\n",
    "factorial(5, exact=True)\n",
    "```"
   ]
  },
  {
   "cell_type": "code",
   "execution_count": 8,
   "metadata": {},
   "outputs": [],
   "source": [
    "import numpy as np\n",
    "import matplotlib.pyplot as plt"
   ]
  },
  {
   "cell_type": "code",
   "execution_count": 9,
   "metadata": {},
   "outputs": [],
   "source": [
    "def my_taylor_generator(func, n, a):\n",
    "    # Ваш код, создающий ряд taylor с кол-вом элементов n в точке a\n",
    "    ## ваш код\n",
    "    def taylor(X):\n",
    "        # содержимое функции\n",
    "        # вы можете определить любые переменные за пределами функции taylor и и использовать их здесь\n",
    "        # например, вот так:\n",
    "        return X*n*a\n",
    "    ## ваш код\n",
    "            \n",
    "    return taylor"
   ]
  },
  {
   "cell_type": "code",
   "execution_count": null,
   "metadata": {},
   "outputs": [],
   "source": [
    "# Проверка 1\n",
    "def func(X):\n",
    "    if hasattr(X, '__iter__'):\n",
    "        ls = []\n",
    "        for r in X:\n",
    "            if r >= 1:\n",
    "                ls.append(r)\n",
    "            else:\n",
    "                ls.append(0)\n",
    "        return np.array(ls)\n",
    "    else:\n",
    "        if X >= 1:\n",
    "            return X\n",
    "        else:\n",
    "            return 0\n",
    "X = np.random.rayleigh(size=300)\n",
    "X -= 0.5*X\n",
    "taylor = my_taylor_generator(func, 7, 0.67)\n",
    "plt.plot(func(X)[:100], label='Настоящая функция')\n",
    "plt.plot(taylor(X)[:100], label=\"Аппроксимация\")\n",
    "plt.legend()\n",
    "plt.show()"
   ]
  },
  {
   "cell_type": "code",
   "execution_count": null,
   "metadata": {},
   "outputs": [],
   "source": [
    "# Проверка 2\n",
    "def func(X):\n",
    "    if hasattr(X, '__iter__'):\n",
    "        ls = []\n",
    "        for r in X:\n",
    "            if r > 1:\n",
    "                ls.append(np.sin(r))\n",
    "            else:\n",
    "                ls.append(np.sinh(r))\n",
    "        return np.array(ls)\n",
    "    else:\n",
    "        if X > 0:\n",
    "            return np.sin(X)\n",
    "        else:\n",
    "            return np.sinh(r)\n",
    "X = np.random.rayleigh(size=300)\n",
    "X -= 0.5*X\n",
    "taylor = my_taylor_generator(func, 7, 0.67)\n",
    "plt.plot(func(X)[:100], label='Настоящая функция')\n",
    "plt.plot(taylor(X)[:100], label=\"Аппроксимация\")\n",
    "plt.legend()\n",
    "plt.show()"
   ]
  },
  {
   "cell_type": "code",
   "execution_count": null,
   "metadata": {},
   "outputs": [],
   "source": [
    "# Проверка 3\n",
    "def func(X):\n",
    "    if hasattr(X, '__iter__'):\n",
    "        ls = []\n",
    "        for r in X:\n",
    "            if r > 0:\n",
    "                ls.append(1)\n",
    "            else:\n",
    "                ls.append(0)\n",
    "        return np.array(ls)\n",
    "    else:\n",
    "        if X > 0:\n",
    "            return 1\n",
    "        else:\n",
    "            return 0\n",
    "X = np.random.rayleigh(size=300)\n",
    "X -= 0.5*X\n",
    "taylor = my_taylor_generator(func, 7, 0.67)\n",
    "plt.plot(func(X)[:100], label='Настоящая функция')\n",
    "plt.plot(taylor(X)[:100], label=\"Аппроксимация\")\n",
    "plt.legend()\n",
    "plt.show()"
   ]
  },
  {
   "cell_type": "code",
   "execution_count": null,
   "metadata": {},
   "outputs": [],
   "source": []
  }
 ],
 "metadata": {
  "kernelspec": {
   "display_name": "Python 3",
   "language": "python",
   "name": "python3"
  },
  "language_info": {
   "codemirror_mode": {
    "name": "ipython",
    "version": 3
   },
   "file_extension": ".py",
   "mimetype": "text/x-python",
   "name": "python",
   "nbconvert_exporter": "python",
   "pygments_lexer": "ipython3",
   "version": "3.7.1"
  }
 },
 "nbformat": 4,
 "nbformat_minor": 2
}
