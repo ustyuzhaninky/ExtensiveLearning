{
 "cells": [
  {
   "cell_type": "markdown",
   "metadata": {},
   "source": [
    "## Задача 2: Приближенное решение уравнений методом дихотомии\n",
    "Закончите приведенную ниже функцию **my_div_finder**, которая итеративно ищет наиболее подходящие корни произвольной функции **func**, которая принимает аргумент - `Х`, используя алгоритм дихотомии. Используйте клетки ниже для проверки вашего алгоритма обучения. Выход функции **func** - это вектор `Y`.\n",
    "\n",
    "Условия задачи:\n",
    "\n",
    "* Функция `func` определяется как (пример):\n",
    "    ```python\n",
    "       def func(X):\n",
    "           return X**2\n",
    "    ```\n",
    "* `X0` - вектор начальных приближений размерности `(n_params)`, где:\n",
    "    - n_params - количество параметров;\n",
    "    \n",
    "    Так, для одномерной параболы вида `y=x**2` этот вектор будет:\n",
    "        ```python\n",
    "           X0 = np.array([x0,])\n",
    "           print(X0.shape)   #будет выведено (1,)\n",
    "        ```\n",
    "* `X` - двухмерная матрица размерности `(samples, features)`, где\n",
    "     - samples - количество примеров;\n",
    "     - features - количество входов модели.\n",
    "     \n",
    "     Так, два примера для функции с двумя входами будут выглядеть следующим образом:\n",
    "         ```python\n",
    "            X = np.array([[0.23, 0.34], [0.0123, 0.78]])\n",
    "            print(X.shape)   # выведет (2, 2)\n",
    "         ```\n",
    "* `Y` - двухмерная матрица размерности `(samples, features)` (или же `(samples, 1)`), где\n",
    "     - samples - количество примеров;\n",
    "     - features - количество выходов модели (равно 1).\n",
    "     \n",
    "     Так, для двух примеров эта матрица будет:\n",
    "         ```python\n",
    "            Y = np.array([[0.2], [0.35]])\n",
    "            print(Y.shape)    # выведет (2, 1)\n",
    "         ```\n",
    "* Задача решается для диапазона \\[Xin, Xmax\\], в котором определен X;\n",
    "* X имеет только одно измерение: `features=1`;\n",
    "* Функция **my_div_finder** ищет такую точку X, в которой **func** обращается в ноль;\n",
    "* Задача считается решенной, если все три проверки обучились без ошибок, если вы не использовали ничего больше, кроме пакета numpy."
   ]
  },
  {
   "cell_type": "code",
   "execution_count": 2,
   "metadata": {},
   "outputs": [],
   "source": [
    "import numpy as np"
   ]
  },
  {
   "cell_type": "code",
   "execution_count": null,
   "metadata": {},
   "outputs": [],
   "source": [
    "def my_div_finder(func, X0, iterations, Xmax, Xmin):\n",
    "    # Ваш код, изменяющий начальные приближения X0 и ищущий тем самым такие, X, при которых func(X)==0\n",
    "    # iterations - кол-во итераций, которое нужно сделать\n",
    "    for i in range(iterations):\n",
    "        ## ваш код\n",
    "        Y_func = func(X0)   # рассчитайте выход модели с текущими весами\n",
    "        X0 = np.array([0.0])    # рассчитайте новые приближения\n",
    "        ## ваш код\n",
    "            \n",
    "        # не трогайте остальное\n",
    "        # \"Эти строки будут показывать прогресс обучения\"\n",
    "        filledLength = int(50 * i // iterations)\n",
    "        bar = '█' * filledLength + '-' * (50 - filledLength)   # Прогресс\n",
    "        print(\"\\r [Iteration %i] \\tProgress: |%s| \\tX0=%f ,\\tY=%f\" %(i, bar, X0, Y_func), end = '\\r')\n",
    "    print()\n",
    "    return X0"
   ]
  },
  {
   "cell_type": "code",
   "execution_count": null,
   "metadata": {},
   "outputs": [],
   "source": [
    "# Проверка 1\n",
    "def func(X):\n",
    "    return X ** 2\n",
    "X = np.random.rayleigh(size=300)\n",
    "X = X.reshape(X.shape[0], 1)\n",
    "X0 = np.array([1.0])\n",
    "result = my_div_finder(func, X0, 100, np.array([-100]), np.array([100]))\n",
    "print(result)\n",
    "print(func(result))"
   ]
  },
  {
   "cell_type": "code",
   "execution_count": null,
   "metadata": {},
   "outputs": [],
   "source": [
    "# Проверка 1\n",
    "def func(X):\n",
    "    return X ** 3\n",
    "X = np.random.rayleigh(size=300)\n",
    "X = X.reshape(X.shape[0], 1)\n",
    "X0 = np.array([1.0])\n",
    "result = my_div_finder(func, X0, 100, np.array([-100]), np.array([100]))\n",
    "print(result)\n",
    "print(func(result))"
   ]
  },
  {
   "cell_type": "code",
   "execution_count": null,
   "metadata": {},
   "outputs": [],
   "source": [
    "# Проверка 3\n",
    "def func(X):\n",
    "    return np.sin(X) - np.mean(np.sin(X))\n",
    "X = np.random.rayleigh(size=300)\n",
    "X = X.reshape(X.shape[0], 1)\n",
    "X0 = np.array([1.0])\n",
    "result = my_div_finder(func, X0, 100, np.array([-100]), np.array([100]))\n",
    "print(result)\n",
    "print(func(result))"
   ]
  }
 ],
 "metadata": {
  "kernelspec": {
   "display_name": "Python 3",
   "language": "python",
   "name": "python3"
  },
  "language_info": {
   "codemirror_mode": {
    "name": "ipython",
    "version": 3
   },
   "file_extension": ".py",
   "mimetype": "text/x-python",
   "name": "python",
   "nbconvert_exporter": "python",
   "pygments_lexer": "ipython3",
   "version": "3.7.1"
  }
 },
 "nbformat": 4,
 "nbformat_minor": 2
}
