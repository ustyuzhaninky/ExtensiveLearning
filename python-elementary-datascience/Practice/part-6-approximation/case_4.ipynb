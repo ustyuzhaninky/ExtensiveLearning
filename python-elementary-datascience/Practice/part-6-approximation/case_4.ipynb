{
 "cells": [
  {
   "cell_type": "markdown",
   "metadata": {},
   "source": [
    "## Задача 4: Интерполяция полиномами\n",
    "Закончите приведенную ниже функцию **my_spline_generator**, которая возвращает функцию **func**, которая принимает аргумент - `Х` и интерполирует некоторый датасет `Y` используя в своей основе (см. Лекции и пособие Умергалина):\n",
    "\n",
    "* Полином Лагранжа\n",
    "\n",
    "* Полином Ньютона\n",
    "\n",
    "Используйте клетки ниже для проверки вашего алгоритма обучения. Выход функции **func** - это вектор `Y`.\n",
    "\n",
    "Условия задачи:\n",
    "\n",
    "* Функция `func` имеет вход `X`;\n",
    "* `X` - двухмерная матрица размерности `(samples, features)`, где\n",
    "     - samples - количество примеров;\n",
    "     - features - количество входов модели.\n",
    "     \n",
    "     Так, два примера для модели с двумя входами будут выглядеть следующим образом:\n",
    "         ```python\n",
    "            X = np.array([[0.23, 0.34], [0.0123, 0.78]])\n",
    "            print(X.shape)   # выведет (2, 2)\n",
    "         ```\n",
    "* `Y` - двухмерная матрица размерности `(samples, features)` (или же `(samples, 1)`), где\n",
    "     - samples - количество примеров;\n",
    "     - features - количество выходов модели (равно 1).\n",
    "     \n",
    "     Так, для двух примеров эта матрица будет:\n",
    "         ```python\n",
    "            Y = np.array([[0.2], [0.35]])\n",
    "            print(Y.shape)    # выведет (2, 1)\n",
    "         ```\n",
    "* Задача считается решенной, если все три проверки выполнились без ошибок и показывают хорошую интерполяцию, если вы не использовали ничего больше, кроме пакета numpy.\n",
    "\n",
    "Пример использования аналогичного кода из пакета skipy (`UnivariateSpline`):\n",
    "\n",
    "```python\n",
    "import matplotlib.pyplot as plt\n",
    "from scipy.interpolate import UnivariateSpline\n",
    "x = np.linspace(-3, 3, 50)\n",
    "y = np.exp(-x**2) + 0.1 * np.random.randn(50)\n",
    "plt.plot(x, y, 'ro', ms=5)\n",
    "spl = UnivariateSpline(x, y)\n",
    "xs = np.linspace(-3, 3, 1000)\n",
    "plt.plot(xs, spl(xs), 'g', lw=3)\n",
    "spl.set_smoothing_factor(0.5)\n",
    "plt.plot(xs, spl(xs), 'b', lw=3)\n",
    "plt.show()\n",
    "```\n",
    "\n",
    "[`UnivariateSpline`](https://docs.scipy.org/doc/scipy-0.17.0/reference/generated/scipy.interpolate.UnivariateSpline.html#scipy.interpolate.UnivariateSpline)\n",
    "\n",
    "[Документация](https://docs.scipy.org/doc/scipy-0.17.0/reference/interpolate.html)"
   ]
  },
  {
   "cell_type": "code",
   "execution_count": 1,
   "metadata": {},
   "outputs": [],
   "source": [
    "import numpy as np\n",
    "import matplotlib.pyplot as plt"
   ]
  },
  {
   "cell_type": "code",
   "execution_count": null,
   "metadata": {},
   "outputs": [],
   "source": [
    "def my_spline_generator(X_train, Y):\n",
    "    # Ваш код, создающий функцию аппроксимации данных из X, Y полиномом степени n\n",
    "    def spline(X):\n",
    "        ## ваш код\n",
    "        return None\n",
    "    return spline"
   ]
  },
  {
   "cell_type": "code",
   "execution_count": null,
   "metadata": {},
   "outputs": [],
   "source": [
    "# Проверка 1\n",
    "def func(X):\n",
    "    return np.sin(X)\n",
    "X = np.random.rayleigh(size=300)\n",
    "Y = func(X)\n",
    "X = X.reshape(X.shape[0], 1)\n",
    "Y = Y.reshape(Y.shape[0], 1)\n",
    "spline = my_spline_generator(X, Y, 7)\n",
    "plt.scatter(range(len(X))[:100], func(X)[:100], label='Настоящая функция')\n",
    "plt.plot(spline(X)[:100], label=\"Аппроксимация\")\n",
    "plt.legend()\n",
    "plt.show()"
   ]
  },
  {
   "cell_type": "code",
   "execution_count": null,
   "metadata": {},
   "outputs": [],
   "source": [
    "# Проверка 2\n",
    "def func(X):\n",
    "    return np.sinh(X)*np.exp(-X)\n",
    "X = np.random.rayleigh(size=300)\n",
    "Y = func(X)\n",
    "X = X.reshape(X.shape[0], 1)\n",
    "Y = Y.reshape(Y.shape[0], 1)\n",
    "spline = my_spline_generator(X, Y, 7)\n",
    "plt.scatter(range(len(X))[:100], func(X)[:100], label='Настоящая функция')\n",
    "plt.plot(spline(X)[:100], label=\"Аппроксимация\")\n",
    "plt.legend()\n",
    "plt.show()"
   ]
  },
  {
   "cell_type": "code",
   "execution_count": null,
   "metadata": {},
   "outputs": [],
   "source": [
    "# Проверка 3\n",
    "def func(X):\n",
    "    if hasattr(X, '__iter__'):\n",
    "        ls = []\n",
    "        for r in X:\n",
    "            if r > 0:\n",
    "                ls.append(1)\n",
    "            else:\n",
    "                ls.append(0)\n",
    "        return np.array(ls)\n",
    "    else:\n",
    "        if X > 0:\n",
    "            return 1\n",
    "        else:\n",
    "            return 0\n",
    "X = np.random.rayleigh(size=300)\n",
    "Y = func(X)\n",
    "X = X.reshape(X.shape[0], 1)\n",
    "Y = Y.reshape(Y.shape[0], 1)\n",
    "spline = my_spline_generator(X, Y, 7)\n",
    "plt.scatter(range(len(X))[:100], func(X)[:100], label='Настоящая функция')\n",
    "plt.plot(spline(X)[:100], label=\"Аппроксимация\")\n",
    "plt.legend()\n",
    "plt.show()"
   ]
  }
 ],
 "metadata": {
  "kernelspec": {
   "display_name": "Python 3",
   "language": "python",
   "name": "python3"
  },
  "language_info": {
   "codemirror_mode": {
    "name": "ipython",
    "version": 3
   },
   "file_extension": ".py",
   "mimetype": "text/x-python",
   "name": "python",
   "nbconvert_exporter": "python",
   "pygments_lexer": "ipython3",
   "version": "3.7.1"
  }
 },
 "nbformat": 4,
 "nbformat_minor": 2
}
