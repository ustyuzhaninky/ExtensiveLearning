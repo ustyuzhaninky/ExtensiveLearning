{
 "cells": [
  {
   "cell_type": "markdown",
   "metadata": {},
   "source": [
    "## Задача 3: Разностные отношения\n",
    "Закончите приведенную ниже функцию **my_df**, которая возвращает отношение  **func**, которая принимает аргумент - `Х` и интерполирует некоторый датасет `Y` используя в своей основе (см. Лекции и пособие Умергалина):\n",
    "\n",
    "Используйте клетки ниже для проверки вашего алгоритма обучения. Выход функции **my_df** - это число `DY` - разностное отношение  `X` и `Y`.\n",
    "\n",
    "Условия задачи:\n",
    "\n",
    "* Функция `my_df` имеет входы `X` и `Y`;\n",
    "* `X` - двухмерная матрица размерности `(samples, features)`, где\n",
    "     - samples - количество примеров;\n",
    "     - features - количество входов модели.\n",
    "     \n",
    "     Так, два примера для модели с двумя входами будут выглядеть следующим образом:\n",
    "         ```python\n",
    "            X = np.array([[0.23, 0.34], [0.0123, 0.78]])\n",
    "            print(X.shape)   # выведет (2, 2)\n",
    "         ```\n",
    "* `Y` - двухмерная матрица размерности `(samples, features)` (или же `(samples, 1)`), где\n",
    "     - samples - количество примеров;\n",
    "     - features - количество выходов модели (равно 1).\n",
    "     \n",
    "     Так, для двух примеров эта матрица будет:\n",
    "         ```python\n",
    "            Y = np.array([[0.2], [0.35]])\n",
    "            print(Y.shape)    # выведет (2, 1)\n",
    "         ```\n",
    "* Задача считается решенной, если все три проверки выполнились без ошибок и показывают хорошую интерполяцию, если вы не использовали ничего больше, кроме пакета numpy.\n",
    "* `numpy.diff` использовать нельзя.\n",
    "\n",
    "[Документация](https://docs.scipy.org/doc/scipy-0.17.0/reference/interpolate.html)"
   ]
  },
  {
   "cell_type": "code",
   "execution_count": 2,
   "metadata": {},
   "outputs": [],
   "source": [
    "import numpy as np\n",
    "import matplotlib.pyplot as plt"
   ]
  },
  {
   "cell_type": "code",
   "execution_count": 3,
   "metadata": {},
   "outputs": [],
   "source": [
    "def my_df(X, Y):\n",
    "    # Ваш код, вычисляющий конечную разность данных из X, Y полиномом степени n\n",
    "    df = 0.0\n",
    "    return df"
   ]
  },
  {
   "cell_type": "code",
   "execution_count": 4,
   "metadata": {},
   "outputs": [
    {
     "name": "stdout",
     "output_type": "stream",
     "text": [
      "0.0\n"
     ]
    }
   ],
   "source": [
    "# Проверка 1\n",
    "def func(X):\n",
    "    return np.sin(X)\n",
    "X = np.random.rayleigh(size=300)\n",
    "Y = func(X)\n",
    "X = X.reshape(X.shape[0], 1)\n",
    "Y = Y.reshape(Y.shape[0], 1)\n",
    "df = my_df(X, Y)\n",
    "print(df)"
   ]
  },
  {
   "cell_type": "code",
   "execution_count": 11,
   "metadata": {},
   "outputs": [
    {
     "name": "stdout",
     "output_type": "stream",
     "text": [
      "0.0\n"
     ]
    }
   ],
   "source": [
    "# Проверка 2\n",
    "def func(X):\n",
    "    return np.sinh(X)*np.exp(-X)\n",
    "X = np.random.rayleigh(size=300)\n",
    "Y = func(X)\n",
    "X = X.reshape(X.shape[0], 1)\n",
    "Y = Y.reshape(Y.shape[0], 1)\n",
    "df = my_df(X, Y)\n",
    "print(df)"
   ]
  },
  {
   "cell_type": "code",
   "execution_count": 5,
   "metadata": {},
   "outputs": [
    {
     "name": "stdout",
     "output_type": "stream",
     "text": [
      "0.0\n"
     ]
    }
   ],
   "source": [
    "# Проверка 3\n",
    "def func(X):\n",
    "    if hasattr(X, '__iter__'):\n",
    "        ls = []\n",
    "        for r in X:\n",
    "            if r > 0:\n",
    "                ls.append(1)\n",
    "            else:\n",
    "                ls.append(0)\n",
    "        return np.array(ls)\n",
    "    else:\n",
    "        if X > 0:\n",
    "            return 1\n",
    "        else:\n",
    "            return 0\n",
    "X = np.random.rayleigh(size=300)\n",
    "Y = func(X)\n",
    "X = X.reshape(X.shape[0], 1)\n",
    "Y = Y.reshape(Y.shape[0], 1)\n",
    "df = my_df(X, Y)\n",
    "print(df)"
   ]
  }
 ],
 "metadata": {
  "kernelspec": {
   "display_name": "Python 3",
   "language": "python",
   "name": "python3"
  },
  "language_info": {
   "codemirror_mode": {
    "name": "ipython",
    "version": 3
   },
   "file_extension": ".py",
   "mimetype": "text/x-python",
   "name": "python",
   "nbconvert_exporter": "python",
   "pygments_lexer": "ipython3",
   "version": "3.7.1"
  }
 },
 "nbformat": 4,
 "nbformat_minor": 2
}
